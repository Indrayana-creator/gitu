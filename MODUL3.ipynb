{
 "cells": [
  {
   "cell_type": "code",
   "execution_count": 1,
   "metadata": {},
   "outputs": [
    {
     "name": "stdout",
     "output_type": "stream",
     "text": [
      "edang\n",
      "Saya \n",
      "dang belajar bahasa pemrograman Python\n",
      "tho\n",
      "edang\n",
      "S a\n"
     ]
    }
   ],
   "source": [
    "kalimat = \"Saya sedang belajar bahasa pemrograman Python\"\n",
    "print(kalimat[6:11])\n",
    "print(kalimat[:5])\n",
    "print(kalimat[7:])\n",
    "print(kalimat[-4:-1])\n",
    "print(kalimat[6:11:1])\n",
    "print(kalimat[0:12:4])\n"
   ]
  },
  {
   "cell_type": "code",
   "execution_count": 3,
   "metadata": {},
   "outputs": [
    {
     "name": "stdout",
     "output_type": "stream",
     "text": [
      "Nama saya Joni, saya berumur 20\n"
     ]
    }
   ],
   "source": [
    "age = 20\n",
    "txt = \"Nama saya Joni, saya berumur {}\"\n",
    "print(txt.format(age))\n"
   ]
  },
  {
   "cell_type": "markdown",
   "metadata": {},
   "source": [
    "SOAL NOMER 1"
   ]
  },
  {
   "cell_type": "code",
   "execution_count": 2,
   "metadata": {},
   "outputs": [
    {
     "name": "stdout",
     "output_type": "stream",
     "text": [
      "Kebalikan dari kalimat surabaya adalah : ayabarus\n"
     ]
    }
   ],
   "source": [
    "kalimat = input(\"Masukkan Kalimat : \")\n",
    "kebalikan = kalimat[::-1]\n",
    "\n",
    "print(f\"Kebalikan dari kalimat {kalimat} adalah : {kebalikan}\")\n"
   ]
  },
  {
   "cell_type": "markdown",
   "metadata": {},
   "source": [
    "SOAL NOMER 2"
   ]
  },
  {
   "cell_type": "code",
   "execution_count": 12,
   "metadata": {},
   "outputs": [
    {
     "name": "stdout",
     "output_type": "stream",
     "text": [
      "ab\n",
      "bc\n",
      "cd\n",
      "de\n",
      "ef\n",
      "fg\n",
      "gh\n",
      "hi\n"
     ]
    }
   ],
   "source": [
    "kalimat = \"abcdefghi\" \n",
    "print(kalimat[:2])\n",
    "print(kalimat[1:3])\n",
    "print(kalimat[2:4])\n",
    "print(kalimat[3:5])\n",
    "print(kalimat[4:6])\n",
    "print(kalimat[5:7])\n",
    "print(kalimat[6:8])\n",
    "print(kalimat[7:9])\n"
   ]
  },
  {
   "cell_type": "markdown",
   "metadata": {},
   "source": [
    "SOAL NOMER 3"
   ]
  },
  {
   "cell_type": "code",
   "execution_count": 2,
   "metadata": {},
   "outputs": [
    {
     "name": "stdout",
     "output_type": "stream",
     "text": [
      "Apakah terdapat kata 'Mereka' dalam paragraf: False\n",
      "Jumlah munculnya kata 'Saya' 0\n",
      "jumlah munculnya kata 'saya' 8\n"
     ]
    }
   ],
   "source": [
    "kalimat = \"\"\"Nama saya adalah Rita Sugiarto. Saya memiliki hobi menyanyi sejak kecil. Semua\n",
    "berawal dari mimpi ibu saya untuk memiliki putri seorang penyanyi. Saya berlatih\n",
    "vokal seminggu sekali dengan guru saya. Apabila saya menjadi juara satu dalam\n",
    "perlombaan menyanyi tingkat profinsi, ibu saya akan membelikan saya kado yang\n",
    "sangat istimewa.\"\"\" \n",
    "\n",
    "mereka = \"Mereka\" in kalimat\n",
    "saya_kapital = kalimat.capitalize().count(\"Saya\")\n",
    "saya_kecil = kalimat.casefold().count(\"saya\") \n",
    "\n",
    "print(\"Apakah terdapat kata 'Mereka' dalam paragraf:\", mereka)\n",
    "print(\"Jumlah munculnya kata 'Saya'\", saya_kapital)\n",
    "print(\"jumlah munculnya kata 'saya'\", saya_kecil)"
   ]
  }
 ],
 "metadata": {
  "kernelspec": {
   "display_name": "Python 3",
   "language": "python",
   "name": "python3"
  },
  "language_info": {
   "codemirror_mode": {
    "name": "ipython",
    "version": 3
   },
   "file_extension": ".py",
   "mimetype": "text/x-python",
   "name": "python",
   "nbconvert_exporter": "python",
   "pygments_lexer": "ipython3",
   "version": "3.11.8"
  }
 },
 "nbformat": 4,
 "nbformat_minor": 2
}
